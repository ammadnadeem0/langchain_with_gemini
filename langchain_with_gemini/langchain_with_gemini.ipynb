{
  "nbformat": 4,
  "nbformat_minor": 0,
  "metadata": {
    "colab": {
      "provenance": [],
      "toc_visible": true,
      "include_colab_link": true
    },
    "kernelspec": {
      "name": "python3",
      "display_name": "Python 3"
    },
    "language_info": {
      "name": "python"
    }
  },
  "cells": [
    {
      "cell_type": "markdown",
      "metadata": {
        "id": "view-in-github",
        "colab_type": "text"
      },
      "source": [
        "<a href=\"https://colab.research.google.com/github/ammadnadeem0/langchain_with_gemini/blob/main/langchain_with_gemini/langchain_with_gemini.ipynb\" target=\"_parent\"><img src=\"https://colab.research.google.com/assets/colab-badge.svg\" alt=\"Open In Colab\"/></a>"
      ]
    },
    {
      "cell_type": "code",
      "execution_count": null,
      "metadata": {
        "colab": {
          "base_uri": "https://localhost:8080/"
        },
        "id": "IoQ08CM9ByCX",
        "outputId": "490ed090-bf74-49ed-f792-b11aac9e120d"
      },
      "outputs": [
        {
          "output_type": "stream",
          "name": "stdout",
          "text": [
            "\u001b[?25l   \u001b[90m━━━━━━━━━━━━━━━━━━━━━━━━━━━━━━━━━━━━━━━━\u001b[0m \u001b[32m0.0/1.0 MB\u001b[0m \u001b[31m?\u001b[0m eta \u001b[36m-:--:--\u001b[0m\r\u001b[2K   \u001b[91m━━━━━━\u001b[0m\u001b[91m╸\u001b[0m\u001b[90m━━━━━━━━━━━━━━━━━━━━━━━━━━━━━━━━━\u001b[0m \u001b[32m0.2/1.0 MB\u001b[0m \u001b[31m6.6 MB/s\u001b[0m eta \u001b[36m0:00:01\u001b[0m\r\u001b[2K   \u001b[91m━━━━━━━━━━━━━━━━━━━━━━━━━━━━━━━━━━━━━━━\u001b[0m\u001b[91m╸\u001b[0m \u001b[32m1.0/1.0 MB\u001b[0m \u001b[31m16.0 MB/s\u001b[0m eta \u001b[36m0:00:01\u001b[0m\r\u001b[2K   \u001b[90m━━━━━━━━━━━━━━━━━━━━━━━━━━━━━━━━━━━━━━━━\u001b[0m \u001b[32m1.0/1.0 MB\u001b[0m \u001b[31m10.8 MB/s\u001b[0m eta \u001b[36m0:00:00\u001b[0m\n",
            "\u001b[2K   \u001b[90m━━━━━━━━━━━━━━━━━━━━━━━━━━━━━━━━━━━━━━━━\u001b[0m \u001b[32m411.6/411.6 kB\u001b[0m \u001b[31m18.8 MB/s\u001b[0m eta \u001b[36m0:00:00\u001b[0m\n",
            "\u001b[2K   \u001b[90m━━━━━━━━━━━━━━━━━━━━━━━━━━━━━━━━━━━━━━━━\u001b[0m \u001b[32m41.3/41.3 kB\u001b[0m \u001b[31m1.7 MB/s\u001b[0m eta \u001b[36m0:00:00\u001b[0m\n",
            "\u001b[?25h"
          ]
        }
      ],
      "source": [
        "!pip install -q -U langchain\n",
        "!pip install -q -U langchain-google-genai"
      ]
    },
    {
      "cell_type": "code",
      "source": [
        "# Import the IPython library to access its application instance\n",
        "import IPython\n",
        "\n",
        "# Retrieve the current IPython application instance\n",
        "app = IPython.Application.instance()\n",
        "\n",
        "# Perform a complete shutdown of the current IPython kernel including restarting the kernel\n",
        "# it will help the environment to access the new packages\n",
        "app.kernel.do_shutdown(True)"
      ],
      "metadata": {
        "colab": {
          "base_uri": "https://localhost:8080/"
        },
        "id": "ZZIt07BpB6ai",
        "outputId": "18187b8d-723d-4cb1-bc18-184869737b54"
      },
      "execution_count": null,
      "outputs": [
        {
          "output_type": "execute_result",
          "data": {
            "text/plain": [
              "{'status': 'ok', 'restart': True}"
            ]
          },
          "metadata": {},
          "execution_count": 2
        }
      ]
    },
    {
      "cell_type": "code",
      "source": [
        "# Import the textwrap module for text formatting and indentation\n",
        "import textwrap\n",
        "\n",
        "# Import the Markdown display function from IPython to render text as Markdown in Jupyter Notebooks\n",
        "from IPython.display import Markdown\n",
        "\n",
        "# Define a function 'to_markdown' that converts a given text into Markdown format\n",
        "def to_markdown(text) -> Markdown:\n",
        "    # Replace bullet points (•) with Markdown-compatible bullet points (*)\n",
        "    text: str = text.replace(\"•\", \"  *\")\n",
        "\n",
        "    # Indent the entire text block with the Markdown blockquote symbol ('> ')\n",
        "    # The lambda function ensures every line is indented\n",
        "    return Markdown(textwrap.indent(text, \"> \", predicate=lambda _: True))"
      ],
      "metadata": {
        "id": "5SOOGi6iLsOa"
      },
      "execution_count": null,
      "outputs": []
    },
    {
      "cell_type": "code",
      "source": [
        "# Importing userdata from Google Colab to securely store and access API keys\n",
        "from google.colab import userdata"
      ],
      "metadata": {
        "id": "acySqgXmLuik"
      },
      "execution_count": null,
      "outputs": []
    },
    {
      "cell_type": "code",
      "source": [
        "# after saving api key in env variables\n",
        "# get api key from env\n",
        "GOOGLE_API_KEY = userdata.get('GOOGLE_API_KEY')"
      ],
      "metadata": {
        "id": "jmXt0PiILw8h"
      },
      "execution_count": null,
      "outputs": []
    },
    {
      "cell_type": "code",
      "source": [
        "# Import the ChatGoogleGenerativeAI class from the langchain_google_genai module\n",
        "# this will be used for using langchain with gemni\n",
        "from langchain_google_genai import ChatGoogleGenerativeAI\n",
        "\n",
        "# Import the AIMessage class currently will be used for typing\n",
        "from langchain_core.messages.ai import AIMessage\n",
        "\n",
        "# Initialize an instance of the ChatGoogleGenerativeAI with specific parameters\n",
        "response: ChatGoogleGenerativeAI = ChatGoogleGenerativeAI(\n",
        "    model=\"gemini-2.0-flash-exp\",  # Specify the model to use\n",
        "    api_key=GOOGLE_API_KEY,     # Provide the Google API key for authentication\n",
        "    temperature=0.1,            # Set the randomness of the model's responses (0 = deterministic, 1 = very random)\n",
        ")"
      ],
      "metadata": {
        "id": "8N-3uupzL0DX"
      },
      "execution_count": null,
      "outputs": []
    },
    {
      "cell_type": "code",
      "source": [
        "# Invoke the LangChain model with a prompt to generate a response\n",
        "ai_msg: AIMessage = response.invoke(\"there is a Holiday in Pakistan on 25 dec, 2024 which two events happen in 25 dec?\")"
      ],
      "metadata": {
        "id": "ZnTd49F0L42a"
      },
      "execution_count": null,
      "outputs": []
    },
    {
      "cell_type": "code",
      "source": [
        "# display complete response\n",
        "ai_msg"
      ],
      "metadata": {
        "colab": {
          "base_uri": "https://localhost:8080/"
        },
        "id": "JbRtF35cMQAR",
        "outputId": "8257c166-8fba-4927-f9bb-e98678ad701f"
      },
      "execution_count": null,
      "outputs": [
        {
          "output_type": "execute_result",
          "data": {
            "text/plain": [
              "AIMessage(content=\"Yes, you are correct. There is a public holiday in Pakistan on December 25th. This date is significant for two reasons:\\n\\n1.  **Quaid-e-Azam's Birthday:** December 25th is the birth anniversary of Muhammad Ali Jinnah, the founder of Pakistan, who is also known as Quaid-e-Azam (Great Leader). It's a national holiday to commemorate his life and contributions to the nation.\\n\\n2.  **Christmas Day:** December 25th is also Christmas Day, a religious holiday celebrated by Christians around the world, including the Christian community in Pakistan. While it's a public holiday in Pakistan, it's primarily observed as a religious holiday by Christians.\\n\\nTherefore, on December 25th in Pakistan, both **Quaid-e-Azam's Birthday** and **Christmas Day** are observed.\\n\", additional_kwargs={}, response_metadata={'prompt_feedback': {'block_reason': 0, 'safety_ratings': []}, 'finish_reason': 'STOP', 'safety_ratings': [{'category': 'HARM_CATEGORY_HATE_SPEECH', 'probability': 'NEGLIGIBLE', 'blocked': False}, {'category': 'HARM_CATEGORY_DANGEROUS_CONTENT', 'probability': 'NEGLIGIBLE', 'blocked': False}, {'category': 'HARM_CATEGORY_HARASSMENT', 'probability': 'NEGLIGIBLE', 'blocked': False}, {'category': 'HARM_CATEGORY_SEXUALLY_EXPLICIT', 'probability': 'NEGLIGIBLE', 'blocked': False}]}, id='run-d7495858-9b80-40ad-90ed-88b46dbb4e6e-0', usage_metadata={'input_tokens': 28, 'output_tokens': 187, 'total_tokens': 215, 'input_token_details': {'cache_read': 0}})"
            ]
          },
          "metadata": {},
          "execution_count": 21
        }
      ]
    },
    {
      "cell_type": "code",
      "source": [
        "ai_msg.content"
      ],
      "metadata": {
        "colab": {
          "base_uri": "https://localhost:8080/",
          "height": 127
        },
        "id": "XqlyM1csMS0-",
        "outputId": "10b7f7dd-48da-4e00-ad65-3ce60f967c2a"
      },
      "execution_count": null,
      "outputs": [
        {
          "output_type": "execute_result",
          "data": {
            "text/plain": [
              "\"Okay, you're right, December 25th is a public holiday in Pakistan. It's a day that commemorates two significant events:\\n\\n1.  **Quaid-e-Azam's Birthday:** December 25th is the birth anniversary of Muhammad Ali Jinnah, the founder of Pakistan, who is also known as Quaid-e-Azam (Great Leader). This is a major national holiday in Pakistan, with celebrations and tributes paid to his legacy.\\n\\n2.  **Christmas Day:** While Pakistan is a predominantly Muslim country, it also has a Christian minority. December 25th is also celebrated as Christmas Day by Christians in Pakistan, and it is recognized as a public holiday to allow them to celebrate their religious festival.\\n\\nSo, to summarize, the two events that happen on December 25th in Pakistan are:\\n\\n*   **Quaid-e-Azam's Birthday**\\n*   **Christmas Day**\\n\""
            ],
            "application/vnd.google.colaboratory.intrinsic+json": {
              "type": "string"
            }
          },
          "metadata": {},
          "execution_count": 10
        }
      ]
    },
    {
      "cell_type": "code",
      "source": [
        "# format the response with markdown\n",
        "to_markdown(ai_msg.content)"
      ],
      "metadata": {
        "colab": {
          "base_uri": "https://localhost:8080/",
          "height": 224
        },
        "id": "Doos9ICwMVJc",
        "outputId": "16bd93ba-1160-405d-91a7-e5aec37a47b2"
      },
      "execution_count": null,
      "outputs": [
        {
          "output_type": "execute_result",
          "data": {
            "text/plain": [
              "<IPython.core.display.Markdown object>"
            ],
            "text/markdown": "> Okay, you're right, December 25th is a public holiday in Pakistan. It's a day that commemorates two significant events:\n> \n> 1.  **Quaid-e-Azam's Birthday:** December 25th is the birth anniversary of Muhammad Ali Jinnah, the founder of Pakistan, who is also known as Quaid-e-Azam (Great Leader). This is a major national holiday in Pakistan, with celebrations and tributes paid to his legacy.\n> \n> 2.  **Christmas Day:** While Pakistan is a predominantly Muslim country, it also has a Christian minority. December 25th is also celebrated as Christmas Day by Christians in Pakistan, and it is recognized as a public holiday to allow them to celebrate their religious festival.\n> \n> So, to summarize, the two events that happen on December 25th in Pakistan are:\n> \n> *   **Quaid-e-Azam's Birthday**\n> *   **Christmas Day**\n"
          },
          "metadata": {},
          "execution_count": 11
        }
      ]
    },
    {
      "cell_type": "code",
      "source": [
        "from typing import Dict\n",
        "\n",
        "message: list[Dict[str, str]] = [\n",
        "    {\"role\": \"system\", \"content\": \"You are a helpful assistant.\"},\n",
        "    {\"role\": \"user\", \"content\": \"Which open source AI Model is best so far for image creation\"},\n",
        "]\n",
        "\n",
        "ai_msg = response.invoke(message)"
      ],
      "metadata": {
        "id": "kGSfmY_5MYgA"
      },
      "execution_count": null,
      "outputs": []
    },
    {
      "cell_type": "code",
      "source": [
        "print(ai_msg.content)"
      ],
      "metadata": {
        "colab": {
          "base_uri": "https://localhost:8080/"
        },
        "id": "omtu6ZWrMbAA",
        "outputId": "81586d7d-704b-4e04-c52e-87a4a7152ebb"
      },
      "execution_count": null,
      "outputs": [
        {
          "output_type": "stream",
          "name": "stdout",
          "text": [
            "That's a great question! The landscape of open-source AI image generation models is constantly evolving, and \"best\" can be subjective depending on your specific needs. However, I can give you a rundown of some of the top contenders and what they excel at:\n",
            "\n",
            "**Top Open-Source Image Generation Models (as of late 2023/early 2024):**\n",
            "\n",
            "1. **Stable Diffusion (and its variants):**\n",
            "   * **Strengths:**\n",
            "      * **Versatility:** Highly adaptable and capable of generating a wide range of image styles, from photorealistic to artistic.\n",
            "      * **Large Community:** Huge and active community contributing to models, fine-tunes, tools, and tutorials.\n",
            "      * **Customization:** Highly customizable through fine-tuning, LoRAs (Low-Rank Adaptations), and ControlNets.\n",
            "      * **Accessibility:** Relatively easy to run on consumer-grade hardware (especially with optimized versions).\n",
            "      * **Active Development:** Continually being improved and updated.\n",
            "   * **Weaknesses:**\n",
            "      * **Can be complex to master:** Requires some learning to get the best results.\n",
            "      * **Can sometimes produce artifacts:** May require careful prompting and post-processing.\n",
            "   * **Key Variants:**\n",
            "      * **Stable Diffusion XL (SDXL):** The latest major version, offering improved image quality and detail.\n",
            "      * **Various Fine-Tuned Models:** Many community-created models are specialized for specific styles (e.g., anime, realistic portraits, etc.).\n",
            "   * **Use Cases:** General image generation, art creation, photo editing, concept art, and more.\n",
            "\n",
            "2. **ComfyUI:**\n",
            "   * **Strengths:**\n",
            "      * **Node-Based Workflow:** Offers a powerful and flexible node-based interface for creating complex image generation pipelines.\n",
            "      * **Highly Customizable:** Allows for fine-grained control over every step of the generation process.\n",
            "      * **Extensible:** Supports a wide range of custom nodes and extensions.\n",
            "   * **Weaknesses:**\n",
            "      * **Steeper Learning Curve:** Can be more challenging to learn than simpler interfaces.\n",
            "      * **Requires More Technical Knowledge:** Best suited for users comfortable with node-based workflows.\n",
            "   * **Use Cases:** Advanced image generation, complex workflows, experimentation, and research.\n",
            "\n",
            "3. **Fooocus:**\n",
            "   * **Strengths:**\n",
            "      * **User-Friendly:** Designed to be easy to use, even for beginners.\n",
            "      * **High-Quality Results:** Produces impressive images with minimal effort.\n",
            "      * **Fast Generation:** Optimized for speed.\n",
            "   * **Weaknesses:**\n",
            "      * **Less Customization:** Offers less control compared to Stable Diffusion or ComfyUI.\n",
            "      * **Limited Advanced Features:** Not as suitable for complex workflows.\n",
            "   * **Use Cases:** Quick and easy image generation, beginners, and users who prioritize simplicity.\n",
            "\n",
            "4. **DALLE-mini (Craiyon):**\n",
            "   * **Strengths:**\n",
            "      * **Simple and Accessible:** Very easy to use through a web interface.\n",
            "      * **Fun and Creative:** Good for generating quirky and imaginative images.\n",
            "   * **Weaknesses:**\n",
            "      * **Lower Image Quality:** Generally produces lower-resolution and less detailed images than other models.\n",
            "      * **Less Control:** Limited control over the generation process.\n",
            "   * **Use Cases:** Casual image generation, fun experiments, and quick concept visualization.\n",
            "\n",
            "**Which is \"Best\" for You?**\n",
            "\n",
            "* **For most users, Stable Diffusion (especially SDXL) is a great starting point.** It offers a good balance of quality, versatility, and community support.\n",
            "* **If you want maximum control and flexibility, ComfyUI is the way to go.** Be prepared for a steeper learning curve.\n",
            "* **If you prioritize ease of use and speed, Fooocus is an excellent choice.**\n",
            "* **If you just want to have some fun and generate quick, quirky images, DALLE-mini (Craiyon) is a good option.**\n",
            "\n",
            "**Key Considerations:**\n",
            "\n",
            "* **Hardware:** Some models (especially SDXL) require a decent GPU with sufficient VRAM.\n",
            "* **Your Goals:** What kind of images do you want to create?\n",
            "* **Your Technical Skills:** How comfortable are you with complex software and technical concepts?\n",
            "* **Community Support:** A strong community can be invaluable for learning and troubleshooting.\n",
            "\n",
            "**Recommendations:**\n",
            "\n",
            "1. **Start with Stable Diffusion (SDXL) and a user-friendly interface like AUTOMATIC1111 or InvokeAI.** This will give you a good foundation for understanding the basics of image generation.\n",
            "2. **Explore different fine-tuned models and LoRAs to achieve specific styles.**\n",
            "3. **If you want more control, try ComfyUI.**\n",
            "4. **Don't be afraid to experiment and have fun!**\n",
            "\n",
            "**The field is constantly evolving, so it's worth keeping an eye on new developments and models.**\n",
            "\n",
            "I hope this comprehensive overview helps you choose the best open-source AI image generation model for your needs! Let me know if you have any more questions.\n",
            "\n"
          ]
        }
      ]
    },
    {
      "cell_type": "code",
      "source": [
        "to_markdown(ai_msg.content)"
      ],
      "metadata": {
        "colab": {
          "base_uri": "https://localhost:8080/",
          "height": 1000
        },
        "id": "WK80gTyLNt_4",
        "outputId": "1848e1c4-1cc5-4076-8cc4-3db3d8e0112b"
      },
      "execution_count": null,
      "outputs": [
        {
          "output_type": "execute_result",
          "data": {
            "text/plain": [
              "<IPython.core.display.Markdown object>"
            ],
            "text/markdown": "> That's a great question! The landscape of open-source AI image generation models is constantly evolving, and \"best\" can be subjective depending on your specific needs. However, I can give you a rundown of some of the top contenders and what they excel at:\n> \n> **Top Open-Source Image Generation Models (as of late 2023/early 2024):**\n> \n> 1. **Stable Diffusion (and its variants):**\n>    * **Strengths:**\n>       * **Versatility:** Highly adaptable and capable of generating a wide range of image styles, from photorealistic to artistic.\n>       * **Large Community:** Huge and active community contributing to models, fine-tunes, tools, and tutorials.\n>       * **Customization:** Highly customizable through fine-tuning, LoRAs (Low-Rank Adaptations), and ControlNets.\n>       * **Accessibility:** Relatively easy to run on consumer-grade hardware (especially with optimized versions).\n>       * **Active Development:** Continually being improved and updated.\n>    * **Weaknesses:**\n>       * **Can be complex to master:** Requires some learning to get the best results.\n>       * **Can sometimes produce artifacts:** May require careful prompting and post-processing.\n>    * **Key Variants:**\n>       * **Stable Diffusion XL (SDXL):** The latest major version, offering improved image quality and detail.\n>       * **Various Fine-Tuned Models:** Many community-created models are specialized for specific styles (e.g., anime, realistic portraits, etc.).\n>    * **Use Cases:** General image generation, art creation, photo editing, concept art, and more.\n> \n> 2. **ComfyUI:**\n>    * **Strengths:**\n>       * **Node-Based Workflow:** Offers a powerful and flexible node-based interface for creating complex image generation pipelines.\n>       * **Highly Customizable:** Allows for fine-grained control over every step of the generation process.\n>       * **Extensible:** Supports a wide range of custom nodes and extensions.\n>    * **Weaknesses:**\n>       * **Steeper Learning Curve:** Can be more challenging to learn than simpler interfaces.\n>       * **Requires More Technical Knowledge:** Best suited for users comfortable with node-based workflows.\n>    * **Use Cases:** Advanced image generation, complex workflows, experimentation, and research.\n> \n> 3. **Fooocus:**\n>    * **Strengths:**\n>       * **User-Friendly:** Designed to be easy to use, even for beginners.\n>       * **High-Quality Results:** Produces impressive images with minimal effort.\n>       * **Fast Generation:** Optimized for speed.\n>    * **Weaknesses:**\n>       * **Less Customization:** Offers less control compared to Stable Diffusion or ComfyUI.\n>       * **Limited Advanced Features:** Not as suitable for complex workflows.\n>    * **Use Cases:** Quick and easy image generation, beginners, and users who prioritize simplicity.\n> \n> 4. **DALLE-mini (Craiyon):**\n>    * **Strengths:**\n>       * **Simple and Accessible:** Very easy to use through a web interface.\n>       * **Fun and Creative:** Good for generating quirky and imaginative images.\n>    * **Weaknesses:**\n>       * **Lower Image Quality:** Generally produces lower-resolution and less detailed images than other models.\n>       * **Less Control:** Limited control over the generation process.\n>    * **Use Cases:** Casual image generation, fun experiments, and quick concept visualization.\n> \n> **Which is \"Best\" for You?**\n> \n> * **For most users, Stable Diffusion (especially SDXL) is a great starting point.** It offers a good balance of quality, versatility, and community support.\n> * **If you want maximum control and flexibility, ComfyUI is the way to go.** Be prepared for a steeper learning curve.\n> * **If you prioritize ease of use and speed, Fooocus is an excellent choice.**\n> * **If you just want to have some fun and generate quick, quirky images, DALLE-mini (Craiyon) is a good option.**\n> \n> **Key Considerations:**\n> \n> * **Hardware:** Some models (especially SDXL) require a decent GPU with sufficient VRAM.\n> * **Your Goals:** What kind of images do you want to create?\n> * **Your Technical Skills:** How comfortable are you with complex software and technical concepts?\n> * **Community Support:** A strong community can be invaluable for learning and troubleshooting.\n> \n> **Recommendations:**\n> \n> 1. **Start with Stable Diffusion (SDXL) and a user-friendly interface like AUTOMATIC1111 or InvokeAI.** This will give you a good foundation for understanding the basics of image generation.\n> 2. **Explore different fine-tuned models and LoRAs to achieve specific styles.**\n> 3. **If you want more control, try ComfyUI.**\n> 4. **Don't be afraid to experiment and have fun!**\n> \n> **The field is constantly evolving, so it's worth keeping an eye on new developments and models.**\n> \n> I hope this comprehensive overview helps you choose the best open-source AI image generation model for your needs! Let me know if you have any more questions.\n"
          },
          "metadata": {},
          "execution_count": 14
        }
      ]
    }
  ]
}